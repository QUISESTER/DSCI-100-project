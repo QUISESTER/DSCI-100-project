{
 "cells": [
  {
   "cell_type": "markdown",
   "id": "e9fc3373-d20e-4a50-ad67-eedbf8b3f09b",
   "metadata": {},
   "source": [
    "\n",
    "# Individual Report: Predicting Newsletter Subscription Based on Player Data\n",
    "\n",
    "**Course**: DSCI 100  \n",
    "**Author**: Er Zhou\n",
    "\n",
    "This report was created as part of a Data Science course using R in a Jupyter Notebook. The objective is to follow a complete data science process from beginning to end using only tools and methods covered in Chapters 1–11 of *Data Science: A First Introduction*."
   ]
  },
  {
   "cell_type": "markdown",
   "id": "cf0b6e82-9125-4347-bd0f-8ddbae68d322",
   "metadata": {},
   "source": [
    "# Predicting Newsletter Subscription from Player Data in a Minecraft Research Server\n",
    "\n",
    "## Introduction\n",
    "\n",
    "This project follows the full data science process described in *Data Science: A First Introduction* (Chapters 1–11). The analysis is based on data from a Minecraft research server hosted by UBC's Computer Science department.\n",
    "\n",
    "Researchers are interested in understanding which types of players are more likely to subscribe to a game-related newsletter. By identifying such predictors, they can better allocate resources and improve recruitment strategies.\n",
    "\n",
    "## Question\n",
    "\n",
    "**Can we predict whether a player will subscribe to the newsletter using demographic and behavioral features recorded in `players.csv`?**\n",
    "\n",
    "This is a **binary classification problem**. We will:\n",
    "- Explore relevant predictors such as `experience`, `played_hours`, `gender`, and `age`\n",
    "- Fit a logistic regression model\n",
    "- Evaluate results using summary statistics and hypothesis testing\n",
    "\n",
    "We also explore `sessions.csv` to better understand player engagement patterns, but the modeling will use only `players.csv`.\n",
    "\n",
    "---\n"
   ]
  },
  {
   "cell_type": "markdown",
   "id": "014c5858-6650-4940-8344-338223dc3c39",
   "metadata": {},
   "source": [
    "## Data Description\n",
    "Two datasets are used:\n",
    "- `players.csv`: player profiles\n",
    "- `sessions.csv`: gameplay session logs"
   ]
  },
  {
   "cell_type": "code",
   "execution_count": 15,
   "id": "2924b4ec-39ae-4003-9c7a-a5bc71c4874a",
   "metadata": {},
   "outputs": [],
   "source": [
    "\n",
    "library(tidyverse)\n",
    "library(readr)\n",
    "library(dplyr)\n",
    "library(ggplot2)\n",
    "library(broom)\n",
    "library(infer)\n",
    "library(forcats)\n",
    "library(tidyr)\n"
   ]
  },
  {
   "cell_type": "markdown",
   "id": "037d1b14-5252-4c5d-aa3e-24fb21d39277",
   "metadata": {},
   "source": [
    "players <- read_csv(\"Data/players.csv\") |> janitor::clean_names()\n",
    "sessions <- read_csv(\"Data/sessions.csv\") |> janitor::clean_names()"
   ]
  },
  {
   "cell_type": "code",
   "execution_count": null,
   "id": "2fa473e2-dd68-4817-b08b-1344e9872771",
   "metadata": {},
   "outputs": [],
   "source": []
  },
  {
   "cell_type": "code",
   "execution_count": null,
   "id": "364f35f8-95a6-4167-9a8c-6ad5750df247",
   "metadata": {},
   "outputs": [],
   "source": []
  }
 ],
 "metadata": {
  "kernelspec": {
   "display_name": "R",
   "language": "R",
   "name": "ir"
  },
  "language_info": {
   "codemirror_mode": "r",
   "file_extension": ".r",
   "mimetype": "text/x-r-source",
   "name": "R",
   "pygments_lexer": "r",
   "version": "4.3.3"
  }
 },
 "nbformat": 4,
 "nbformat_minor": 5
}
