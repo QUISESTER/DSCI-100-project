{
 "cells": [
  {
   "cell_type": "markdown",
   "id": "e9fc3373-d20e-4a50-ad67-eedbf8b3f09b",
   "metadata": {},
   "source": [
    "# Predicting Gameplay Contribution from Player Characteristics on a Minecraft Research Server"
   ]
  },
  {
   "cell_type": "code",
   "execution_count": 8,
   "id": "2924b4ec-39ae-4003-9c7a-a5bc71c4874a",
   "metadata": {},
   "outputs": [],
   "source": [
    "library(tidyverse)\n",
    "library(repr)\n",
    "library(infer)\n",
    "library(cowplot)\n",
    "options(repr.matrix.max.rows = 6)"
   ]
  },
  {
   "cell_type": "markdown",
   "id": "037d1b14-5252-4c5d-aa3e-24fb21d39277",
   "metadata": {},
   "source": [
    "# Introduction\n",
    "\n",
    "**Background**\n",
    "\n",
    "Understanding player behavior is critical in online research environments where limited resources (such as server capacity and licenses) must be allocated efficiently. In a Minecraft-based research server developed by UBC Computer Science researchers, player activities are logged during gameplay. Predicting which players are likely to contribute large amounts of gameplay data can help optimize recruitment and server management.\n",
    "\n",
    "**Question**\n",
    "\n",
    "*Can player characteristics (experience level, age, gender, subscription status) predict how much total gameplay time a player will contribute?*\n",
    "\n",
    "This is approached as a regression problem, where the response variable is `total_play_minutes`, and the explanatory variables include `experience`, `Age`, `gender`, and `subscribe`."
   ]
  },
  {
   "cell_type": "code",
   "execution_count": null,
   "id": "2fa473e2-dd68-4817-b08b-1344e9872771",
   "metadata": {},
   "outputs": [],
   "source": []
  },
  {
   "cell_type": "code",
   "execution_count": null,
   "id": "364f35f8-95a6-4167-9a8c-6ad5750df247",
   "metadata": {},
   "outputs": [],
   "source": []
  }
 ],
 "metadata": {
  "kernelspec": {
   "display_name": "R",
   "language": "R",
   "name": "ir"
  },
  "language_info": {
   "codemirror_mode": "r",
   "file_extension": ".r",
   "mimetype": "text/x-r-source",
   "name": "R",
   "pygments_lexer": "r",
   "version": "4.3.3"
  }
 },
 "nbformat": 4,
 "nbformat_minor": 5
}
